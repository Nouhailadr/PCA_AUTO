{
 "cells": [
  {
   "cell_type": "markdown",
   "id": "d024042c",
   "metadata": {},
   "source": [
    "# Importation de data"
   ]
  },
  {
   "cell_type": "code",
   "execution_count": 2,
   "id": "e1ae3b3e",
   "metadata": {},
   "outputs": [],
   "source": [
    "import numpy as np \n",
    "from numpy import genfromtxt\n",
    "import matplotlib.pyplot as plt\n",
    "import pandas as pd\n",
    "\n",
    "data = np.genfromtxt(\"AUTO.csv\",delimiter=\";\")"
   ]
  },
  {
   "cell_type": "markdown",
   "id": "1f740a33",
   "metadata": {},
   "source": [
    "# LA MATRICE INITIALE"
   ]
  },
  {
   "cell_type": "code",
   "execution_count": 3,
   "id": "a819de2d",
   "metadata": {},
   "outputs": [
    {
     "name": "stdout",
     "output_type": "stream",
     "text": [
      "[[1.250e+02 1.991e+03 1.720e+02 4.500e+02 1.850e+02 1.730e+02 1.757e+03\n",
      "  1.970e+02 2.799e+04]\n",
      " [2.340e+02 3.498e+03 2.000e+02 4.770e+02 1.880e+02 1.710e+02 1.870e+03\n",
      "  2.950e+02 4.400e+04]\n",
      " [2.040e+02 4.164e+03 1.700e+02 4.890e+02 1.940e+02 1.850e+02 2.495e+03\n",
      "  2.920e+02 6.710e+04]\n",
      " [2.020e+02 1.997e+03 2.200e+02 4.550e+02 1.780e+02 1.670e+02 1.595e+03\n",
      "  2.370e+02 2.999e+04]\n",
      " [1.360e+02 2.184e+03 1.800e+02 4.460e+02 1.770e+02 1.680e+02 1.520e+03\n",
      "  1.900e+02 2.970e+04]\n",
      " [2.100e+02 2.496e+03 2.300e+02 4.750e+02 1.780e+02 1.480e+02 1.589e+03\n",
      "  2.380e+02 3.300e+04]\n",
      " [2.040e+02 2.721e+03 2.300e+02 4.910e+02 1.840e+02 1.450e+02 1.723e+03\n",
      "  2.230e+02 4.055e+04]\n",
      " [1.500e+02 2.188e+03 2.000e+02 4.860e+02 1.860e+02 1.580e+02 1.735e+03\n",
      "  1.880e+02 3.825e+04]\n",
      " [1.650e+02 1.998e+03 2.180e+02 4.580e+02 1.780e+02 1.430e+02 1.320e+03\n",
      "  1.960e+02 2.535e+04]\n",
      " [1.360e+02 1.997e+03 2.120e+02 4.680e+02 1.820e+02 1.450e+02 1.415e+03\n",
      "  1.940e+02 2.340e+04]\n",
      " [1.380e+02 1.997e+03 2.070e+02 4.260e+02 1.780e+02 1.460e+02 1.381e+03\n",
      "  1.420e+02 2.340e+04]\n",
      " [1.000e+02 1.461e+03 1.850e+02 3.820e+02 1.640e+02 1.420e+02 9.800e+02\n",
      "  1.130e+02 1.760e+04]\n",
      " [6.100e+01 1.124e+03 1.580e+02 3.670e+02 1.660e+02 1.470e+02 9.320e+02\n",
      "  1.410e+02 1.070e+04]\n",
      " [1.800e+02 1.997e+03 2.250e+02 4.350e+02 1.760e+02 1.430e+02 1.490e+03\n",
      "  2.100e+02 2.885e+04]\n",
      " [1.130e+02 1.598e+03 1.880e+02 3.800e+02 1.700e+02 1.590e+02 1.170e+03\n",
      "  1.630e+02 1.695e+04]\n",
      " [1.650e+02 1.998e+03 2.250e+02 4.360e+02 1.780e+02 1.410e+02 1.415e+03\n",
      "  1.910e+02 2.780e+04]\n",
      " [7.500e+01 1.360e+03 1.650e+02 3.740e+02 1.690e+02 1.610e+02 1.181e+03\n",
      "  1.530e+02 1.360e+04]\n",
      " [6.000e+01 1.149e+03 1.510e+02 3.440e+02 1.630e+02 1.430e+02 8.400e+02\n",
      "  1.430e+02 8.950e+03]\n",
      " [2.310e+02 2.979e+03 2.500e+02 4.850e+02 1.850e+02 1.470e+02 1.495e+03\n",
      "  2.310e+02 4.640e+04]\n",
      " [2.040e+02 3.222e+03 2.430e+02 4.820e+02 1.830e+02 1.460e+02 1.735e+03\n",
      "  1.830e+02 4.645e+04]\n",
      " [2.800e+02 3.697e+03 2.500e+02 5.060e+02 2.030e+02 1.450e+02 1.770e+03\n",
      "  2.810e+02 7.834e+04]\n",
      " [1.450e+02 1.999e+03 2.150e+02 4.740e+02 1.940e+02 1.430e+02 1.378e+03\n",
      "  1.890e+02 2.310e+04]\n",
      " [1.500e+02 1.910e+03 2.170e+02 4.600e+02 1.800e+02 1.460e+02 1.428e+03\n",
      "  1.590e+02 2.655e+04]\n",
      " [1.500e+02 1.781e+03 2.210e+02 4.710e+02 1.750e+02 1.470e+02 1.360e+03\n",
      "  1.970e+02 2.774e+04]\n",
      " [2.180e+02 2.993e+03 2.100e+02 4.670e+02 1.880e+02 1.720e+02 2.095e+03\n",
      "  2.290e+02 5.200e+04]\n",
      " [1.400e+02 1.991e+03 2.010e+02 3.840e+02 1.770e+02 1.600e+02 1.340e+03\n",
      "  1.410e+02 2.455e+04]\n",
      " [2.500e+02 3.179e+03 2.500e+02 4.430e+02 1.750e+02 1.410e+02 1.410e+03\n",
      "  2.870e+02 4.080e+04]\n",
      " [1.020e+02 1.595e+03 1.850e+02 4.210e+02 1.770e+02 1.430e+02 1.205e+03\n",
      "  1.680e+02 2.163e+04]\n",
      " [7.500e+01 1.968e+03 1.630e+02 4.210e+02 1.760e+02 1.490e+02 1.217e+03\n",
      "  1.430e+02 1.914e+04]\n",
      " [1.000e+02 1.910e+03 1.790e+02 3.990e+02 1.700e+02 1.690e+02 1.275e+03\n",
      "  1.460e+02 1.790e+04]\n",
      " [6.800e+01 1.399e+03 1.640e+02 3.920e+02 1.680e+02 1.440e+02 1.138e+03\n",
      "  1.170e+02 1.415e+04]\n",
      " [7.000e+01 1.248e+03 1.650e+02 3.840e+02 1.650e+02 1.440e+02 1.035e+03\n",
      "  1.270e+02 1.359e+04]\n",
      " [5.400e+01 1.108e+03 1.500e+02 3.540e+02 1.590e+02 1.540e+02 8.600e+02\n",
      "  1.350e+02 8.070e+03]\n",
      " [1.150e+02 1.995e+03 1.950e+02 4.630e+02 1.760e+02 1.480e+02 1.400e+03\n",
      "  1.550e+02 2.640e+04]\n",
      " [3.400e+02 5.654e+03 2.500e+02 5.020e+02 1.880e+02 1.480e+02 1.835e+03\n",
      "  2.910e+02 5.490e+04]\n",
      " [2.310e+02 1.308e+03 2.350e+02 4.430e+02 1.770e+02 1.340e+02 1.390e+03\n",
      "  2.840e+02 3.400e+04]\n",
      " [2.230e+02 2.429e+03 2.000e+02 4.290e+02 1.710e+02 1.540e+02 1.595e+03\n",
      "  2.350e+02 2.740e+04]\n",
      " [6.500e+01 9.980e+02 1.550e+02 3.640e+02 1.660e+02 1.500e+02 8.800e+02\n",
      "  1.340e+02 1.045e+04]]\n"
     ]
    }
   ],
   "source": [
    "X= np.array([data[1:39,1:10]])\n",
    "X = np.reshape(X, (38,9))\n",
    "\n",
    "print(X)"
   ]
  },
  {
   "cell_type": "markdown",
   "id": "183a8245",
   "metadata": {},
   "source": [
    "# LA MATRICE DES MOYENNES"
   ]
  },
  {
   "cell_type": "code",
   "execution_count": 4,
   "id": "6ba0e436",
   "metadata": {},
   "outputs": [
    {
     "name": "stdout",
     "output_type": "stream",
     "text": [
      "MATRICE DES MOYENNES  [[  154.44736842  2191.60526316   200.89473684   436.39473684\n",
      "    177.55263158   151.81578947  1427.60526316   193.10526316\n",
      "  29493.15789474]]\n"
     ]
    }
   ],
   "source": [
    "Xbarre = 1/38*np.dot(np.ones((1,38)), X)\n",
    "print(\"MATRICE DES MOYENNES \", Xbarre)"
   ]
  },
  {
   "cell_type": "markdown",
   "id": "90d08d19",
   "metadata": {},
   "source": [
    "# LA MATRICE DES DONNEES CENTRES"
   ]
  },
  {
   "cell_type": "code",
   "execution_count": 5,
   "id": "b98d12b8",
   "metadata": {},
   "outputs": [
    {
     "name": "stdout",
     "output_type": "stream",
     "text": [
      "[[-2.94473684e+01 -2.00605263e+02 -2.88947368e+01  1.36052632e+01\n",
      "   7.44736842e+00  2.11842105e+01  3.29394737e+02  3.89473684e+00\n",
      "  -1.50315789e+03]\n",
      " [ 7.95526316e+01  1.30639474e+03 -8.94736842e-01  4.06052632e+01\n",
      "   1.04473684e+01  1.91842105e+01  4.42394737e+02  1.01894737e+02\n",
      "   1.45068421e+04]\n",
      " [ 4.95526316e+01  1.97239474e+03 -3.08947368e+01  5.26052632e+01\n",
      "   1.64473684e+01  3.31842105e+01  1.06739474e+03  9.88947368e+01\n",
      "   3.76068421e+04]\n",
      " [ 4.75526316e+01 -1.94605263e+02  1.91052632e+01  1.86052632e+01\n",
      "   4.47368421e-01  1.51842105e+01  1.67394737e+02  4.38947368e+01\n",
      "   4.96842105e+02]\n",
      " [-1.84473684e+01 -7.60526316e+00 -2.08947368e+01  9.60526316e+00\n",
      "  -5.52631579e-01  1.61842105e+01  9.23947368e+01 -3.10526316e+00\n",
      "   2.06842105e+02]\n",
      " [ 5.55526316e+01  3.04394737e+02  2.91052632e+01  3.86052632e+01\n",
      "   4.47368421e-01 -3.81578947e+00  1.61394737e+02  4.48947368e+01\n",
      "   3.50684211e+03]\n",
      " [ 4.95526316e+01  5.29394737e+02  2.91052632e+01  5.46052632e+01\n",
      "   6.44736842e+00 -6.81578947e+00  2.95394737e+02  2.98947368e+01\n",
      "   1.10568421e+04]\n",
      " [-4.44736842e+00 -3.60526316e+00 -8.94736842e-01  4.96052632e+01\n",
      "   8.44736842e+00  6.18421053e+00  3.07394737e+02 -5.10526316e+00\n",
      "   8.75684211e+03]\n",
      " [ 1.05526316e+01 -1.93605263e+02  1.71052632e+01  2.16052632e+01\n",
      "   4.47368421e-01 -8.81578947e+00 -1.07605263e+02  2.89473684e+00\n",
      "  -4.14315789e+03]\n",
      " [-1.84473684e+01 -1.94605263e+02  1.11052632e+01  3.16052632e+01\n",
      "   4.44736842e+00 -6.81578947e+00 -1.26052632e+01  8.94736842e-01\n",
      "  -6.09315789e+03]\n",
      " [-1.64473684e+01 -1.94605263e+02  6.10526316e+00 -1.03947368e+01\n",
      "   4.47368421e-01 -5.81578947e+00 -4.66052632e+01 -5.11052632e+01\n",
      "  -6.09315789e+03]\n",
      " [-5.44473684e+01 -7.30605263e+02 -1.58947368e+01 -5.43947368e+01\n",
      "  -1.35526316e+01 -9.81578947e+00 -4.47605263e+02 -8.01052632e+01\n",
      "  -1.18931579e+04]\n",
      " [-9.34473684e+01 -1.06760526e+03 -4.28947368e+01 -6.93947368e+01\n",
      "  -1.15526316e+01 -4.81578947e+00 -4.95605263e+02 -5.21052632e+01\n",
      "  -1.87931579e+04]\n",
      " [ 2.55526316e+01 -1.94605263e+02  2.41052632e+01 -1.39473684e+00\n",
      "  -1.55263158e+00 -8.81578947e+00  6.23947368e+01  1.68947368e+01\n",
      "  -6.43157895e+02]\n",
      " [-4.14473684e+01 -5.93605263e+02 -1.28947368e+01 -5.63947368e+01\n",
      "  -7.55263158e+00  7.18421053e+00 -2.57605263e+02 -3.01052632e+01\n",
      "  -1.25431579e+04]\n",
      " [ 1.05526316e+01 -1.93605263e+02  2.41052632e+01 -3.94736842e-01\n",
      "   4.47368421e-01 -1.08157895e+01 -1.26052632e+01 -2.10526316e+00\n",
      "  -1.69315789e+03]\n",
      " [-7.94473684e+01 -8.31605263e+02 -3.58947368e+01 -6.23947368e+01\n",
      "  -8.55263158e+00  9.18421053e+00 -2.46605263e+02 -4.01052632e+01\n",
      "  -1.58931579e+04]\n",
      " [-9.44473684e+01 -1.04260526e+03 -4.98947368e+01 -9.23947368e+01\n",
      "  -1.45526316e+01 -8.81578947e+00 -5.87605263e+02 -5.01052632e+01\n",
      "  -2.05431579e+04]\n",
      " [ 7.65526316e+01  7.87394737e+02  4.91052632e+01  4.86052632e+01\n",
      "   7.44736842e+00 -4.81578947e+00  6.73947368e+01  3.78947368e+01\n",
      "   1.69068421e+04]\n",
      " [ 4.95526316e+01  1.03039474e+03  4.21052632e+01  4.56052632e+01\n",
      "   5.44736842e+00 -5.81578947e+00  3.07394737e+02 -1.01052632e+01\n",
      "   1.69568421e+04]\n",
      " [ 1.25552632e+02  1.50539474e+03  4.91052632e+01  6.96052632e+01\n",
      "   2.54473684e+01 -6.81578947e+00  3.42394737e+02  8.78947368e+01\n",
      "   4.88468421e+04]\n",
      " [-9.44736842e+00 -1.92605263e+02  1.41052632e+01  3.76052632e+01\n",
      "   1.64473684e+01 -8.81578947e+00 -4.96052632e+01 -4.10526316e+00\n",
      "  -6.39315789e+03]\n",
      " [-4.44736842e+00 -2.81605263e+02  1.61052632e+01  2.36052632e+01\n",
      "   2.44736842e+00 -5.81578947e+00  3.94736842e-01 -3.41052632e+01\n",
      "  -2.94315789e+03]\n",
      " [-4.44736842e+00 -4.10605263e+02  2.01052632e+01  3.46052632e+01\n",
      "  -2.55263158e+00 -4.81578947e+00 -6.76052632e+01  3.89473684e+00\n",
      "  -1.75315789e+03]\n",
      " [ 6.35526316e+01  8.01394737e+02  9.10526316e+00  3.06052632e+01\n",
      "   1.04473684e+01  2.01842105e+01  6.67394737e+02  3.58947368e+01\n",
      "   2.25068421e+04]\n",
      " [-1.44473684e+01 -2.00605263e+02  1.05263158e-01 -5.23947368e+01\n",
      "  -5.52631579e-01  8.18421053e+00 -8.76052632e+01 -5.21052632e+01\n",
      "  -4.94315789e+03]\n",
      " [ 9.55526316e+01  9.87394737e+02  4.91052632e+01  6.60526316e+00\n",
      "  -2.55263158e+00 -1.08157895e+01 -1.76052632e+01  9.38947368e+01\n",
      "   1.13068421e+04]\n",
      " [-5.24473684e+01 -5.96605263e+02 -1.58947368e+01 -1.53947368e+01\n",
      "  -5.52631579e-01 -8.81578947e+00 -2.22605263e+02 -2.51052632e+01\n",
      "  -7.86315789e+03]\n",
      " [-7.94473684e+01 -2.23605263e+02 -3.78947368e+01 -1.53947368e+01\n",
      "  -1.55263158e+00 -2.81578947e+00 -2.10605263e+02 -5.01052632e+01\n",
      "  -1.03531579e+04]\n",
      " [-5.44473684e+01 -2.81605263e+02 -2.18947368e+01 -3.73947368e+01\n",
      "  -7.55263158e+00  1.71842105e+01 -1.52605263e+02 -4.71052632e+01\n",
      "  -1.15931579e+04]\n",
      " [-8.64473684e+01 -7.92605263e+02 -3.68947368e+01 -4.43947368e+01\n",
      "  -9.55263158e+00 -7.81578947e+00 -2.89605263e+02 -7.61052632e+01\n",
      "  -1.53431579e+04]\n",
      " [-8.44473684e+01 -9.43605263e+02 -3.58947368e+01 -5.23947368e+01\n",
      "  -1.25526316e+01 -7.81578947e+00 -3.92605263e+02 -6.61052632e+01\n",
      "  -1.59031579e+04]\n",
      " [-1.00447368e+02 -1.08360526e+03 -5.08947368e+01 -8.23947368e+01\n",
      "  -1.85526316e+01  2.18421053e+00 -5.67605263e+02 -5.81052632e+01\n",
      "  -2.14231579e+04]\n",
      " [-3.94473684e+01 -1.96605263e+02 -5.89473684e+00  2.66052632e+01\n",
      "  -1.55263158e+00 -3.81578947e+00 -2.76052632e+01 -3.81052632e+01\n",
      "  -3.09315789e+03]\n",
      " [ 1.85552632e+02  3.46239474e+03  4.91052632e+01  6.56052632e+01\n",
      "   1.04473684e+01 -3.81578947e+00  4.07394737e+02  9.78947368e+01\n",
      "   2.54068421e+04]\n",
      " [ 7.65526316e+01 -8.83605263e+02  3.41052632e+01  6.60526316e+00\n",
      "  -5.52631579e-01 -1.78157895e+01 -3.76052632e+01  9.08947368e+01\n",
      "   4.50684211e+03]\n",
      " [ 6.85526316e+01  2.37394737e+02 -8.94736842e-01 -7.39473684e+00\n",
      "  -6.55263158e+00  2.18421053e+00  1.67394737e+02  4.18947368e+01\n",
      "  -2.09315789e+03]\n",
      " [-8.94473684e+01 -1.19360526e+03 -4.58947368e+01 -7.23947368e+01\n",
      "  -1.15526316e+01 -1.81578947e+00 -5.47605263e+02 -5.91052632e+01\n",
      "  -1.90431579e+04]]\n"
     ]
    }
   ],
   "source": [
    "# Y = X - Xbarre\n",
    "Y = X  - 1/38*(np.dot(np.transpose(np.ones((1,38))),np.dot(np.ones((1,38)),X)))\n",
    "\n",
    "print(Y)"
   ]
  },
  {
   "cell_type": "markdown",
   "id": "48ddf837",
   "metadata": {},
   "source": [
    "# LA MATRICE DES VARIANCE - COVARIANCE"
   ]
  },
  {
   "cell_type": "code",
   "execution_count": 6,
   "id": "c86cfe99",
   "metadata": {},
   "outputs": [
    {
     "name": "stdout",
     "output_type": "stream",
     "text": [
      "[[ 4.65266828e+03  5.39078871e+04  1.75467867e+03  2.41208657e+03\n",
      "   4.47173823e+02  2.57403047e+01  1.72889661e+04  3.28829501e+03\n",
      "   9.05420429e+05]\n",
      " [ 5.39078871e+04  8.78901081e+05  1.65669058e+04  3.10456821e+04\n",
      "   6.33353393e+03  2.71876939e+03  2.54624607e+05  3.78033573e+04\n",
      "   1.26171436e+07]\n",
      " [ 1.75467867e+03  1.65669058e+04  9.21462604e+02  1.01862050e+03\n",
      "   1.68663435e+02 -1.10861496e+02  4.96861634e+03  1.05774792e+03\n",
      "   3.06146648e+05]\n",
      " [ 2.41208657e+03  3.10456821e+04  1.01862050e+03  2.02218629e+03\n",
      "   3.66439751e+02  4.42306094e+01  1.26153663e+04  1.74590582e+03\n",
      "   5.71357964e+05]\n",
      " [ 4.47173823e+02  6.33353393e+03  1.68663435e+02  3.66439751e+02\n",
      "   8.69314404e+01  2.38123269e+01  2.63390235e+03  3.37968144e+02\n",
      "   1.23627202e+05]\n",
      " [ 2.57403047e+01  2.71876939e+03 -1.10861496e+02  4.42306094e+01\n",
      "   2.38123269e+01  1.28623961e+02  2.02095360e+03  1.11229917e+02\n",
      "   4.16366343e+04]\n",
      " [ 1.72889661e+04  2.54624607e+05  4.96861634e+03  1.26153663e+04\n",
      "   2.63390235e+03  2.02095360e+03  1.17747713e+05  1.37613310e+04\n",
      "   4.60512335e+06]\n",
      " [ 3.28829501e+03  3.78033573e+04  1.05774792e+03  1.74590582e+03\n",
      "   3.37968144e+02  1.11229917e+02  1.37613310e+04  2.86419945e+03\n",
      "   6.76499404e+05]\n",
      " [ 9.05420429e+05  1.26171436e+07  3.06146648e+05  5.71357964e+05\n",
      "   1.23627202e+05  4.16366343e+04  4.60512335e+06  6.76499404e+05\n",
      "   2.42729437e+08]]\n"
     ]
    }
   ],
   "source": [
    "Mcov = 1/38*np.dot(np.transpose(Y),Y)\n",
    "print(Mcov)"
   ]
  },
  {
   "cell_type": "markdown",
   "id": "6498a3f0",
   "metadata": {},
   "source": [
    "# LES ECARTS TYPES"
   ]
  },
  {
   "cell_type": "code",
   "execution_count": 7,
   "id": "30d0e020",
   "metadata": {},
   "outputs": [
    {
     "name": "stdout",
     "output_type": "stream",
     "text": [
      " LES ECARTS TYPES  [6.82104705e+01 9.37497243e+02 3.03556025e+01 4.49687257e+01\n",
      " 9.32370315e+00 1.13412504e+01 3.43143866e+02 5.35182160e+01\n",
      " 1.55797766e+04]\n"
     ]
    }
   ],
   "source": [
    "Ectype1 = np.sqrt(Mcov[0,0])\n",
    "Ectype2 = np.sqrt(Mcov[1,1])\n",
    "Ectype3 = np.sqrt(Mcov[2,2])\n",
    "Ectype4 = np.sqrt(Mcov[3,3])\n",
    "Ectype5 = np.sqrt(Mcov[4,4])\n",
    "Ectype6 = np.sqrt(Mcov[5,5])\n",
    "Ectype7 = np.sqrt(Mcov[6,6])\n",
    "Ectype8 = np.sqrt(Mcov[7,7])\n",
    "Ectype9 = np.sqrt(Mcov[8,8])\n",
    "\n",
    "Ectypes = np.array([Ectype1,Ectype2, Ectype3, Ectype4, Ectype5, Ectype6, Ectype7, Ectype8, Ectype9])\n",
    "print(\" LES ECARTS TYPES \" , Ectypes)"
   ]
  },
  {
   "cell_type": "markdown",
   "id": "3db5e570",
   "metadata": {},
   "source": [
    "# MATRICE CENTREE ET REDUITE"
   ]
  },
  {
   "cell_type": "code",
   "execution_count": 8,
   "id": "ca2b771f",
   "metadata": {},
   "outputs": [
    {
     "name": "stdout",
     "output_type": "stream",
     "text": [
      "MATRICE CENTREE ET REDUITE :\n",
      "[[-4.31713316e-01 -2.13979577e-01 -9.51874924e-01  3.02549449e-01\n",
      "   7.98756492e-01  1.86789020e+00  9.59931882e-01  7.27740409e-02\n",
      "  -9.64813513e-02]\n",
      " [ 1.16628182e+00  1.39349182e+00 -2.94751798e-02  9.02966730e-01\n",
      "   1.12051706e+00  1.69154280e+00  1.28923982e+00  1.90392626e+00\n",
      "   9.31132873e-01]\n",
      " [ 7.26466644e-01  2.10389391e+00 -1.01776062e+00  1.16981885e+00\n",
      "   1.76403819e+00  2.92597459e+00  3.11063330e+00  1.84787058e+00\n",
      "   2.41382423e+00]\n",
      " [ 6.97145632e-01 -2.07579558e-01  6.29381781e-01  4.13737834e-01\n",
      "   4.79818387e-02  1.33884801e+00  4.87826692e-01  8.20183110e-01\n",
      "   3.18901945e-02]\n",
      " [-2.70447752e-01 -8.11230456e-03 -6.88332140e-01  2.13598740e-01\n",
      "  -5.92716832e-02  1.42702171e+00  2.69259474e-01 -5.80225461e-02\n",
      "   1.32763204e-02]\n",
      " [ 8.14429679e-01  3.24688674e-01  9.58810261e-01  8.58491376e-01\n",
      "   4.79818387e-02 -3.36452272e-01  4.70341314e-01  8.38868336e-01\n",
      "   2.25089371e-01]\n",
      " [ 7.26466644e-01  5.64689380e-01  9.58810261e-01  1.21429421e+00\n",
      "   6.91502970e-01 -6.00973369e-01  8.60848077e-01  5.58589936e-01\n",
      "   7.09691957e-01]\n",
      " [-6.52006707e-02 -3.84562534e-03 -2.94751798e-02  1.10310582e+00\n",
      "   9.06010014e-01  5.45284717e-01  8.95818831e-01 -9.53929996e-02\n",
      "   5.62064679e-01]\n",
      " [ 1.54706917e-01 -2.06512888e-01  5.63496084e-01  4.80450865e-01\n",
      "   4.79818387e-02 -7.77320766e-01 -3.13586440e-01  5.40888142e-02\n",
      "  -2.65931792e-01]\n",
      " [-2.70447752e-01 -2.07579558e-01  3.65838996e-01  7.02827636e-01\n",
      "   4.76995926e-01 -6.00973369e-01 -3.67346306e-02  1.67183607e-02\n",
      "  -3.91094049e-01]\n",
      " [-2.41126741e-01 -2.07579558e-01  2.01124756e-01 -2.31154801e-01\n",
      "   4.79818387e-02 -5.12799670e-01 -1.35818436e-01 -9.54913429e-01\n",
      "  -3.91094049e-01]\n",
      " [-7.98225962e-01 -7.79314572e-01 -5.23617900e-01 -1.20961259e+00\n",
      "  -1.45356747e+00 -8.65494465e-01 -1.30442449e+00 -1.49678500e+00\n",
      "  -7.63371532e-01]\n",
      " [-1.36998569e+00 -1.13878230e+00 -1.41307480e+00 -1.54317775e+00\n",
      "  -1.23906042e+00 -4.24625971e-01 -1.44430751e+00 -9.73598655e-01\n",
      "  -1.20625337e+00]\n",
      " [ 3.74614504e-01 -2.07579558e-01  7.94096021e-01 -3.10157075e-02\n",
      "  -1.66525205e-01 -7.77320766e-01  1.81832587e-01  3.15681988e-01\n",
      "  -4.12815866e-02]\n",
      " [-6.07639386e-01 -6.33180809e-01 -4.24789356e-01 -1.25408795e+00\n",
      "  -8.10046336e-01  6.33458416e-01 -7.50720875e-01 -5.62523668e-01\n",
      "  -8.05092284e-01]\n",
      " [ 1.54706917e-01 -2.06512888e-01  7.94096021e-01 -8.77803043e-03\n",
      "   4.79818387e-02 -9.53668164e-01 -3.67346306e-02 -3.93373194e-02\n",
      "  -1.08676648e-01]\n",
      " [-1.16473861e+00 -8.87048222e-01 -1.18247486e+00 -1.38751401e+00\n",
      "  -9.17299858e-01  8.09805813e-01 -7.18664350e-01 -7.49375935e-01\n",
      "  -1.02011462e+00]\n",
      " [-1.38464620e+00 -1.11211555e+00 -1.64367473e+00 -2.05464432e+00\n",
      "  -1.56082099e+00 -7.77320766e-01 -1.71241663e+00 -9.36228202e-01\n",
      "  -1.31857847e+00]\n",
      " [ 1.12230030e+00  8.39890189e-01  1.61766722e+00  1.08086815e+00\n",
      "   7.98756492e-01 -4.24625971e-01  1.96403735e-01  7.08071749e-01\n",
      "   1.08517873e+00]\n",
      " [ 7.26466644e-01  1.09909095e+00  1.38706728e+00  1.01415512e+00\n",
      "   5.84249448e-01 -5.12799670e-01  8.95818831e-01 -1.88819133e-01\n",
      "   1.08838802e+00]\n",
      " [ 1.84066509e+00  1.60575911e+00  1.61766722e+00  1.54785937e+00\n",
      "   2.72931989e+00 -6.00973369e-01  9.97816866e-01  1.64233309e+00\n",
      "   3.13527232e+00]\n",
      " [-1.38503200e-01 -2.05446218e-01  4.64667540e-01  8.36253699e-01\n",
      "   1.76403819e+00 -7.77320766e-01 -1.44561125e-01 -7.67077729e-02\n",
      "  -4.10349781e-01]\n",
      " [-6.52006707e-02 -3.00379831e-01  5.30553236e-01  5.24926219e-01\n",
      "   2.62488883e-01 -5.12799670e-01  1.15035378e-03 -6.37264574e-01\n",
      "  -1.88908864e-01]\n",
      " [-6.52006707e-02 -4.37980235e-01  6.62324629e-01  7.69540667e-01\n",
      "  -2.73778727e-01 -4.24625971e-01 -1.97017257e-01  7.27740409e-02\n",
      "  -1.12527795e-01]\n",
      " [ 9.31713726e-01  8.54823566e-01  2.99953300e-01  6.80589959e-01\n",
      "   1.12051706e+00  1.77971650e+00  1.94494148e+00  6.70701296e-01\n",
      "   1.44461906e+00]\n",
      " [-2.11805729e-01 -2.13979577e-01  3.46766821e-03 -1.16513724e+00\n",
      "  -5.92716832e-02  7.21632115e-01 -2.55301848e-01 -9.73598655e-01\n",
      "  -3.17280410e-01]\n",
      " [ 1.40084991e+00  1.05322415e+00  1.61766722e+00  1.46885709e-01\n",
      "  -2.73778727e-01 -9.53668164e-01 -5.13057785e-02  1.75444445e+00\n",
      "   7.25738400e-01]\n",
      " [-7.68904950e-01 -6.36380819e-01 -5.23617900e-01 -3.42343187e-01\n",
      "  -5.92716832e-02 -7.77320766e-01 -6.48722840e-01 -4.69097534e-01\n",
      "  -5.04702867e-01]\n",
      " [-1.16473861e+00 -2.38512982e-01 -1.24836056e+00 -3.42343187e-01\n",
      "  -1.66525205e-01 -2.48278573e-01 -6.13752085e-01 -9.36228202e-01\n",
      "  -6.64525442e-01]\n",
      " [-7.98225962e-01 -3.00379831e-01 -7.21274988e-01 -8.31572082e-01\n",
      "  -8.10046336e-01  1.51519540e+00 -4.44726770e-01 -8.80172522e-01\n",
      "  -7.44115800e-01]\n",
      " [-1.26736215e+00 -8.45448100e-01 -1.21541771e+00 -9.87235822e-01\n",
      "  -1.02455338e+00 -6.89147068e-01 -8.43976221e-01 -1.42204410e+00\n",
      "  -9.84812449e-01]\n",
      " [-1.23804114e+00 -1.00651524e+00 -1.18247486e+00 -1.16513724e+00\n",
      "  -1.34631395e+00 -6.89147068e-01 -1.14414187e+00 -1.23519183e+00\n",
      "  -1.02075648e+00]\n",
      " [-1.47260923e+00 -1.15584901e+00 -1.67661758e+00 -1.83226755e+00\n",
      "  -1.98983508e+00  1.92589921e-01 -1.65413204e+00 -1.08571002e+00\n",
      "  -1.37506195e+00]\n",
      " [-5.78318375e-01 -2.09712897e-01 -1.94189420e-01  5.91639251e-01\n",
      "  -1.66525205e-01 -3.36452272e-01 -8.04480742e-02 -7.12005481e-01\n",
      "  -1.98536730e-01]\n",
      " [ 2.72029544e+00  3.69323191e+00  1.61766722e+00  1.45890866e+00\n",
      "   1.12051706e+00 -3.36452272e-01  1.18724179e+00  1.82918535e+00\n",
      "   1.63075780e+00]\n",
      " [ 1.12230030e+00 -9.42515052e-01  1.12352450e+00  1.46885709e-01\n",
      "  -5.92716832e-02 -1.57088406e+00 -1.09590370e-01  1.69838877e+00\n",
      "   2.89275144e-01]\n",
      " [ 1.00501625e+00  2.53221797e-01 -2.94751798e-02 -1.64441770e-01\n",
      "  -7.02792815e-01  1.92589921e-01  4.87826692e-01  7.82812656e-01\n",
      "  -1.34350957e-01]\n",
      " [-1.31134367e+00 -1.27318269e+00 -1.51190334e+00 -1.60989078e+00\n",
      "  -1.23906042e+00 -1.60104874e-01 -1.59584745e+00 -1.10439524e+00\n",
      "  -1.22229981e+00]]\n"
     ]
    }
   ],
   "source": [
    "Z = Y/Ectypes\n",
    "print(\"MATRICE CENTREE ET REDUITE :\")\n",
    "print(Z)"
   ]
  },
  {
   "cell_type": "markdown",
   "id": "7ff7ed32",
   "metadata": {},
   "source": [
    "# MATRICE DE CORRELATION"
   ]
  },
  {
   "cell_type": "code",
   "execution_count": 9,
   "id": "d8242303",
   "metadata": {},
   "outputs": [
    {
     "name": "stdout",
     "output_type": "stream",
     "text": [
      "LA MATRICE DE CORRELATION :\n",
      "[[ 1.          0.84300717  0.84743753  0.78637784  0.70313204  0.03327375\n",
      "   0.73865516  0.90077868  0.85199691]\n",
      " [ 0.84300717  1.          0.58214684  0.73641161  0.72458221  0.2557063\n",
      "   0.79150586  0.75345747  0.86383306]\n",
      " [ 0.84743753  0.58214684  1.          0.74621328  0.5959278  -0.32201858\n",
      "   0.47700218  0.651091    0.6473355 ]\n",
      " [ 0.78637784  0.73641161  0.74621328  1.          0.87398416  0.08672642\n",
      "   0.8175476   0.72545187  0.8155235 ]\n",
      " [ 0.70313204  0.72458221  0.5959278   0.87398416  1.          0.22519174\n",
      "   0.82325617  0.67730721  0.85106823]\n",
      " [ 0.03327375  0.2557063  -0.32201858  0.08672642  0.22519174  1.\n",
      "   0.519301    0.18325636  0.23564241]\n",
      " [ 0.73865516  0.79150586  0.47700218  0.8175476   0.82325617  0.519301\n",
      "   1.          0.74934631  0.86139789]\n",
      " [ 0.90077868  0.75345747  0.651091    0.72545187  0.67730721  0.18325636\n",
      "   0.74934631  1.          0.81134313]\n",
      " [ 0.85199691  0.86383306  0.6473355   0.8155235   0.85106823  0.23564241\n",
      "   0.86139789  0.81134313  1.        ]]\n"
     ]
    }
   ],
   "source": [
    "R = 1/38*np.dot(np.transpose(Z),Z)\n",
    "print(\"LA MATRICE DE CORRELATION :\")\n",
    "print(R)\n",
    "\n",
    "#ON REMARQUE QUE LA DIAGONALE EST BIEN EGALE A 1"
   ]
  },
  {
   "cell_type": "markdown",
   "id": "f2dd06e8",
   "metadata": {},
   "source": [
    "# DIAGONALISATION"
   ]
  },
  {
   "cell_type": "code",
   "execution_count": 10,
   "id": "e1e0f2bf",
   "metadata": {},
   "outputs": [
    {
     "name": "stdout",
     "output_type": "stream",
     "text": [
      "LES VALEURS PROPRES:  [6.36855469 1.43807319 0.46886766 0.25781332 0.18761587 0.01633626\n",
      " 0.04898009 0.12115729 0.09260162]\n",
      "\n",
      "LES VECTEURS PROPRES : \n",
      "[[ 0.36911476 -0.17957507  0.37893661  0.067504   -0.13771055  0.77529228\n",
      "   0.21930466  0.10156067 -0.07004232]\n",
      " [ 0.35307973  0.07727526  0.25527629 -0.74077893 -0.19733374 -0.23607074\n",
      "   0.00975286 -0.28654313 -0.28030653]\n",
      " [ 0.29973821 -0.48295296  0.00186551  0.25960181 -0.54420452 -0.41628378\n",
      "  -0.04639534  0.36290324 -0.07883421]\n",
      " [ 0.36087236 -0.08084236 -0.45012032  0.18786479 -0.14988612  0.19965187\n",
      "  -0.46916536 -0.58392596  0.0438383 ]\n",
      " [ 0.34970099  0.07204106 -0.56906412 -0.0431484   0.34042743  0.03250336\n",
      "   0.2573334   0.30902109 -0.51784334]\n",
      " [ 0.08441405  0.78811551  0.13174888  0.25474602 -0.34751277  0.0198646\n",
      "  -0.26385334  0.21419113 -0.22986682]\n",
      " [ 0.35529574  0.30317821 -0.12740108  0.12620495 -0.126236   -0.17742429\n",
      "   0.62933974 -0.17816976  0.52389055]\n",
      " [ 0.34992772 -0.02265237  0.48076315  0.42245084  0.54468681 -0.31077021\n",
      "  -0.08122117 -0.20782451 -0.15617231]\n",
      " [ 0.37538801  0.05706261 -0.00856082 -0.28784334  0.27238866  0.02304062\n",
      "  -0.43707807  0.4675498   0.53715372]]\n"
     ]
    }
   ],
   "source": [
    "[D,P] = np.linalg.eig(R) \n",
    "print(\"LES VALEURS PROPRES: \",D)\n",
    "print(\"\")\n",
    "print(\"LES VECTEURS PROPRES : \")\n",
    "print(P)\n"
   ]
  },
  {
   "cell_type": "raw",
   "id": "fe00dd66",
   "metadata": {},
   "source": [
    "On remarque que λ1 = 6.36855469 et λ2 = 1.43807319 sont les plus grandes "
   ]
  },
  {
   "cell_type": "code",
   "execution_count": 11,
   "id": "49a8276f",
   "metadata": {},
   "outputs": [
    {
     "name": "stdout",
     "output_type": "stream",
     "text": [
      " La quantite de l'information globale est :  9.000000000000009  = 100%\n",
      " La quantite de l'information dans la dimension 1 est : 70.76%\n",
      " La quantite de l'information dans la dimension 2 est : 15.98%\n",
      " Le pourcentage cumule entre les deux dimensions est : 86.74%\n"
     ]
    }
   ],
   "source": [
    "# CALCUL DES POUCENTAGES ET POURCENTAGES CUMULES \n",
    "\n",
    "#S = Quantite d'information globale\n",
    "#D[i]= La valeur propre λi\n",
    "\n",
    "S=0 \n",
    "for i in range(len(D)):\n",
    "    S = S + D[i]\n",
    "    \n",
    "pourcentagedim1 = D[0]/S\n",
    "pourcentagedim2 = D[1]/S\n",
    "\n",
    "print (\" La quantite de l'information globale est : \",S, \" = 100%\")\n",
    "print (\" La quantite de l'information dans la dimension 1 est : {0:.2f}%\".format(pourcentagedim1*100))\n",
    "print (\" La quantite de l'information dans la dimension 2 est : {0:.2f}%\".format(pourcentagedim2*100))\n",
    "print (\" Le pourcentage cumule entre les deux dimensions est : {0:.2f}%\".format(pourcentagedim2*100+pourcentagedim1*100))"
   ]
  },
  {
   "cell_type": "markdown",
   "id": "d6e79f1e",
   "metadata": {},
   "source": [
    "# MATRICE DES VECTEURS PROPRES"
   ]
  },
  {
   "cell_type": "code",
   "execution_count": 12,
   "id": "c71afd76",
   "metadata": {},
   "outputs": [
    {
     "data": {
      "text/plain": [
       "array([[ 0.36911476, -0.17957507],\n",
       "       [ 0.35307973,  0.07727526],\n",
       "       [ 0.29973821, -0.48295296],\n",
       "       [ 0.36087236, -0.08084236],\n",
       "       [ 0.34970099,  0.07204106],\n",
       "       [ 0.08441405,  0.78811551],\n",
       "       [ 0.35529574,  0.30317821],\n",
       "       [ 0.34992772, -0.02265237],\n",
       "       [ 0.37538801,  0.05706261]])"
      ]
     },
     "execution_count": 12,
     "metadata": {},
     "output_type": "execute_result"
    }
   ],
   "source": [
    "V = np.transpose(np.array([P[:,0], P[:,1]]))\n",
    "V"
   ]
  },
  {
   "cell_type": "markdown",
   "id": "8e65643a",
   "metadata": {},
   "source": [
    "# LES COMPOSANTES PRINCIPALES"
   ]
  },
  {
   "cell_type": "code",
   "execution_count": 13,
   "id": "bb47a28b",
   "metadata": {},
   "outputs": [
    {
     "data": {
      "text/plain": [
       "array([[ 0.35627437,  2.30977459],\n",
       "       [ 3.24799646,  1.65421269],\n",
       "       [ 4.64990123,  3.90112911],\n",
       "       [ 1.12408656,  0.71112254],\n",
       "       [-0.05184797,  1.5671965 ],\n",
       "       [ 1.54598428, -0.77889111],\n",
       "       [ 2.15194751, -0.7830314 ],\n",
       "       [ 1.22257581,  0.73731247],\n",
       "       [ 0.08531798, -1.0753572 ],\n",
       "       [ 0.1522305 , -0.6740822 ],\n",
       "       [-0.74115479, -0.49373881],\n",
       "       [-3.01841863, -0.758163  ],\n",
       "       [-3.66400916,  0.0566406 ],\n",
       "       [ 0.3275346 , -1.04330994],\n",
       "       [-2.02333701,  0.5468058 ],\n",
       "       [ 0.08770578, -1.19113267],\n",
       "       [-2.75119558,  1.1368794 ],\n",
       "       [-4.18033779, -0.17563413],\n",
       "       [ 2.55413789, -1.17695361],\n",
       "       [ 2.2597544 , -0.82147691],\n",
       "       [ 5.29971084, -0.94563479],\n",
       "       [ 0.63642158, -0.83406265],\n",
       "       [-0.02666294, -0.69140276],\n",
       "       [ 0.07916107, -0.82639835],\n",
       "       [ 2.9913418 ,  1.8391104 ],\n",
       "       [-1.08347046,  0.6050244 ],\n",
       "       [ 2.11871998, -1.74850989],\n",
       "       [-1.45944008, -0.46228236],\n",
       "       [-1.88618268,  0.41084524],\n",
       "       [-1.81768873,  1.51413543],\n",
       "       [-3.07050753, -0.06774144],\n",
       "       [-3.33815546, -0.2074485 ],\n",
       "       [-4.27882759,  0.58604338],\n",
       "       [-0.57110791, -0.16314964],\n",
       "       [ 5.35697917, -0.87517483],\n",
       "       [ 0.98187955, -2.12635356],\n",
       "       [ 0.5595033 ,  0.09027351],\n",
       "       [-3.82682035,  0.25342368]])"
      ]
     },
     "execution_count": 13,
     "metadata": {},
     "output_type": "execute_result"
    }
   ],
   "source": [
    "C = np.dot(Z,V)\n",
    "C"
   ]
  },
  {
   "cell_type": "markdown",
   "id": "dfea8a75",
   "metadata": {},
   "source": [
    "# GRAPHIQUE"
   ]
  },
  {
   "cell_type": "code",
   "execution_count": 14,
   "id": "c876bb33",
   "metadata": {},
   "outputs": [
    {
     "name": "stdout",
     "output_type": "stream",
     "text": [
      "Le premier plan explique 86.74% de l'information \n",
      " \n"
     ]
    },
    {
     "data": {
      "image/png": "[encoded data removed]",
      "text/plain": [
       "<Figure size 640x480 with 1 Axes>"
      ]
     },
     "metadata": {},
     "output_type": "display_data"
    }
   ],
   "source": [
    "X = C[ :,0]\n",
    "Y = C[ :,1]\n",
    "\n",
    "plt.scatter(X , Y , color = 'hotpink')\n",
    "plt.axhline(y=0, color = \"black\")\n",
    "plt.axvline(x=0, color = \"black\")\n",
    "plt.grid()\n",
    "\n",
    "annotations=[\"SANTA_FE\", \"MURANO\", \"LANDCRUI\",\"OUTLAND\",\"X-TRAIL\",\"CITRONC5\",\"P607\",\"VELSATIS\",\"LAGUNA\",\"P407\",\"CITRONC4\",\"CLIO\",\"CITRONC2\",\"P307CC\",\"MODUS\",\"MEGANECC\",\"P1007\",\"TWINGO\",\"BMW530\",\"MERC_E\",\"AUDIA8\",\"MONDEO\",\"VECTRA\",\"PASSAT\",\"BMW X5\",\"MERC_A\",\"ALFA 156\",\"AUDIA3\",\"GOLF\",\"MUSA\",\"FIESTA\",\"CORSA\",\"PANDA\",\"AVENSIS\",\"CHRYS300\",\"MAZDARX8\",\"PTCRUISER\",\"YARIS\"]\n",
    "for i, label in enumerate(annotations):\n",
    "    plt.text(X[i], Y[i],label)\n",
    "    \n",
    "plt.xlabel(\"DIMENSION 1 = 70,76%\")\n",
    "plt.ylabel(\"DIMENSION 2 = 15,98%\")\n",
    "plt.title(\"Graphe des individus de l'ACP\")\n",
    "\n",
    "print(\"Le premier plan explique 86.74% de l'information \")\n",
    "print(\" \")"
   ]
  },
  {
   "cell_type": "code",
   "execution_count": 16,
   "id": "c65adbfd",
   "metadata": {},
   "outputs": [
    {
     "data": {
      "image/png": "[encoded data removed]",
      "text/plain": [
       "<Figure size 640x480 with 1 Axes>"
      ]
     },
     "metadata": {},
     "output_type": "display_data"
    }
   ],
   "source": [
    "# Tracer le cercle de corrélation\n",
    "fig, ax = plt.subplots()\n",
    "ax.scatter(X, Y)\n",
    "circle = plt.Circle((0,0), 1, color='black', fill=False)\n",
    "ax.add_artist(circle)\n",
    "plt.axhline(y=0, color = \"black\")\n",
    "plt.axvline(x=0, color = \"black\")\n",
    "plt.grid()\n",
    "ax.set_xlim(-1.5, 1.5)\n",
    "ax.set_ylim(-1.5, 1.5)\n",
    "plt.show()"
   ]
  },
  {
   "cell_type": "code",
   "execution_count": null,
   "id": "78f12cff",
   "metadata": {},
   "outputs": [],
   "source": []
  },
  {
   "cell_type": "code",
   "execution_count": null,
   "id": "b8d918a3",
   "metadata": {},
   "outputs": [],
   "source": []
  },
  {
   "cell_type": "code",
   "execution_count": null,
   "id": "e4f62bfe",
   "metadata": {},
   "outputs": [],
   "source": []
  },
  {
   "cell_type": "code",
   "execution_count": null,
   "id": "e8305397",
   "metadata": {},
   "outputs": [],
   "source": []
  }
 ],
 "metadata": {
  "kernelspec": {
   "display_name": "Python 3 (ipykernel)",
   "language": "python",
   "name": "python3"
  },
  "language_info": {
   "codemirror_mode": {
    "name": "ipython",
    "version": 3
   },
   "file_extension": ".py",
   "mimetype": "text/x-python",
   "name": "python",
   "nbconvert_exporter": "python",
   "pygments_lexer": "ipython3",
   "version": "3.9.13"
  }
 },
 "nbformat": 4,
 "nbformat_minor": 5
}
